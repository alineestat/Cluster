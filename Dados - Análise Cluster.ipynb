{
 "cells": [
  {
   "cell_type": "markdown",
   "id": "51129e82",
   "metadata": {},
   "source": [
    "## <center> Análise de Cluster <center>"
   ]
  },
  {
   "cell_type": "code",
   "execution_count": 1,
   "id": "779b4497",
   "metadata": {},
   "outputs": [],
   "source": [
    "import pandas as pd\n",
    "import sqlalchemy\n",
    "import mysql.connector\n",
    "import seaborn as sns\n",
    "import numpy as np\n",
    "import datetime as dt\n",
    "import xlrd\n",
    "\n",
    "from sqlalchemy import create_engine\n",
    "\n",
    "import time\n",
    "from time import gmtime\n",
    "from time import strftime\n",
    "\n",
    "from openpyxl import Workbook\n",
    "from openpyxl import Workbook, load_workbook\n",
    "from pandas import ExcelWriter\n",
    "\n",
    "import plotly.express as px\n",
    "\n",
    "\n",
    "from ortools.sat.python import cp_model\n",
    "\n",
    "\n",
    "from datetime import datetime\n",
    "from datetime import timedelta\n",
    "from datetime import date\n",
    "\n",
    "\n",
    "from ortools.sat.python import cp_model\n",
    "import math\n",
    "from pathlib import Path, PureWindowsPath\n",
    "\n",
    "pd.set_option(\"display.float_format\", lambda x: \"%.2f\" %x)\n",
    "\n",
    "import pandas as pd\n",
    "from glob import glob\n",
    "\n"
   ]
  },
  {
   "cell_type": "markdown",
   "id": "8a1dc0c3",
   "metadata": {},
   "source": [
    "* ### Planilha Cupom Médio das Lojas\n",
    "\n",
    "Cupom Médio = Total vendido por dia/ Qtd de cupons por dia"
   ]
  },
  {
   "cell_type": "code",
   "execution_count": 2,
   "id": "985cd96f",
   "metadata": {},
   "outputs": [],
   "source": [
    "planilha = \"C:/Users/anunes/R-DIAS ASSESSORIA PARA O VAREJO/R-Lab - Cluster/CupomMedio_Lojas/CupomMedio_LojasNicolini.xlsx\"\n",
    "CupomMedioLojas = pd.read_excel(planilha)"
   ]
  },
  {
   "cell_type": "code",
   "execution_count": 3,
   "id": "5b3187a3",
   "metadata": {},
   "outputs": [],
   "source": [
    "CupomMedioLojas = CupomMedioLojas.rename(columns={'NroCupom': 'QtdCupons_Dia', 'total':'total_Dia'})\n",
    "CupomMedioLojas['Mes_Ano'] = CupomMedioLojas['Data'].dt.strftime('%m-%Y')"
   ]
  },
  {
   "cell_type": "code",
   "execution_count": 4,
   "id": "515a43a7",
   "metadata": {},
   "outputs": [
    {
     "data": {
      "text/html": [
       "<div>\n",
       "<style scoped>\n",
       "    .dataframe tbody tr th:only-of-type {\n",
       "        vertical-align: middle;\n",
       "    }\n",
       "\n",
       "    .dataframe tbody tr th {\n",
       "        vertical-align: top;\n",
       "    }\n",
       "\n",
       "    .dataframe thead th {\n",
       "        text-align: right;\n",
       "    }\n",
       "</style>\n",
       "<table border=\"1\" class=\"dataframe\">\n",
       "  <thead>\n",
       "    <tr style=\"text-align: right;\">\n",
       "      <th></th>\n",
       "      <th>Loja</th>\n",
       "      <th>Data</th>\n",
       "      <th>total_Dia</th>\n",
       "      <th>QtdCupons_Dia</th>\n",
       "      <th>CupomMedio</th>\n",
       "      <th>Mes_Ano</th>\n",
       "    </tr>\n",
       "  </thead>\n",
       "  <tbody>\n",
       "    <tr>\n",
       "      <th>0</th>\n",
       "      <td>1</td>\n",
       "      <td>2020-12-14</td>\n",
       "      <td>157997.71</td>\n",
       "      <td>1106</td>\n",
       "      <td>142.86</td>\n",
       "      <td>12-2020</td>\n",
       "    </tr>\n",
       "    <tr>\n",
       "      <th>1</th>\n",
       "      <td>1</td>\n",
       "      <td>2020-12-15</td>\n",
       "      <td>149245.69</td>\n",
       "      <td>1255</td>\n",
       "      <td>118.92</td>\n",
       "      <td>12-2020</td>\n",
       "    </tr>\n",
       "    <tr>\n",
       "      <th>2</th>\n",
       "      <td>1</td>\n",
       "      <td>2020-12-16</td>\n",
       "      <td>137492.32</td>\n",
       "      <td>1152</td>\n",
       "      <td>119.35</td>\n",
       "      <td>12-2020</td>\n",
       "    </tr>\n",
       "    <tr>\n",
       "      <th>3</th>\n",
       "      <td>1</td>\n",
       "      <td>2020-12-17</td>\n",
       "      <td>134912.09</td>\n",
       "      <td>1377</td>\n",
       "      <td>97.98</td>\n",
       "      <td>12-2020</td>\n",
       "    </tr>\n",
       "    <tr>\n",
       "      <th>4</th>\n",
       "      <td>1</td>\n",
       "      <td>2020-12-18</td>\n",
       "      <td>201943.76</td>\n",
       "      <td>1402</td>\n",
       "      <td>144.04</td>\n",
       "      <td>12-2020</td>\n",
       "    </tr>\n",
       "    <tr>\n",
       "      <th>...</th>\n",
       "      <td>...</td>\n",
       "      <td>...</td>\n",
       "      <td>...</td>\n",
       "      <td>...</td>\n",
       "      <td>...</td>\n",
       "      <td>...</td>\n",
       "    </tr>\n",
       "    <tr>\n",
       "      <th>3588</th>\n",
       "      <td>9</td>\n",
       "      <td>2021-12-23</td>\n",
       "      <td>210513.73</td>\n",
       "      <td>2385</td>\n",
       "      <td>88.27</td>\n",
       "      <td>12-2021</td>\n",
       "    </tr>\n",
       "    <tr>\n",
       "      <th>3589</th>\n",
       "      <td>9</td>\n",
       "      <td>2021-12-24</td>\n",
       "      <td>201137.69</td>\n",
       "      <td>2371</td>\n",
       "      <td>84.83</td>\n",
       "      <td>12-2021</td>\n",
       "    </tr>\n",
       "    <tr>\n",
       "      <th>3590</th>\n",
       "      <td>9</td>\n",
       "      <td>2021-12-26</td>\n",
       "      <td>32924.74</td>\n",
       "      <td>569</td>\n",
       "      <td>57.86</td>\n",
       "      <td>12-2021</td>\n",
       "    </tr>\n",
       "    <tr>\n",
       "      <th>3591</th>\n",
       "      <td>9</td>\n",
       "      <td>2021-12-27</td>\n",
       "      <td>68565.11</td>\n",
       "      <td>1236</td>\n",
       "      <td>55.47</td>\n",
       "      <td>12-2021</td>\n",
       "    </tr>\n",
       "    <tr>\n",
       "      <th>3592</th>\n",
       "      <td>9</td>\n",
       "      <td>2021-12-28</td>\n",
       "      <td>59097.52</td>\n",
       "      <td>802</td>\n",
       "      <td>73.69</td>\n",
       "      <td>12-2021</td>\n",
       "    </tr>\n",
       "  </tbody>\n",
       "</table>\n",
       "<p>3593 rows × 6 columns</p>\n",
       "</div>"
      ],
      "text/plain": [
       "      Loja       Data  total_Dia  QtdCupons_Dia  CupomMedio  Mes_Ano\n",
       "0        1 2020-12-14  157997.71           1106      142.86  12-2020\n",
       "1        1 2020-12-15  149245.69           1255      118.92  12-2020\n",
       "2        1 2020-12-16  137492.32           1152      119.35  12-2020\n",
       "3        1 2020-12-17  134912.09           1377       97.98  12-2020\n",
       "4        1 2020-12-18  201943.76           1402      144.04  12-2020\n",
       "...    ...        ...        ...            ...         ...      ...\n",
       "3588     9 2021-12-23  210513.73           2385       88.27  12-2021\n",
       "3589     9 2021-12-24  201137.69           2371       84.83  12-2021\n",
       "3590     9 2021-12-26   32924.74            569       57.86  12-2021\n",
       "3591     9 2021-12-27   68565.11           1236       55.47  12-2021\n",
       "3592     9 2021-12-28   59097.52            802       73.69  12-2021\n",
       "\n",
       "[3593 rows x 6 columns]"
      ]
     },
     "execution_count": 4,
     "metadata": {},
     "output_type": "execute_result"
    }
   ],
   "source": [
    "CupomMedioLojas"
   ]
  },
  {
   "cell_type": "code",
   "execution_count": 5,
   "id": "f2f6811b",
   "metadata": {},
   "outputs": [],
   "source": [
    "Total_QtdCupons_Mes = CupomMedioLojas.groupby(['Mes_Ano']).agg({'total_Dia': np.sum, 'QtdCupons_Dia': np.sum}).reset_index()"
   ]
  },
  {
   "cell_type": "code",
   "execution_count": 6,
   "id": "2bcfc338",
   "metadata": {},
   "outputs": [],
   "source": [
    "Total_QtdCupons_Mes.to_excel(\"Total_QtdCupons_Mes.xlsx\")"
   ]
  },
  {
   "cell_type": "code",
   "execution_count": 20,
   "id": "36acf48c",
   "metadata": {},
   "outputs": [],
   "source": [
    "## Adiçao da data e hora\n",
    "\n",
    "CupomMedioLojas['Dia_da_Semana'] = CupomMedioLojas['Data'].dt.day_name().replace(['Monday', 'Tuesday', 'Wednesday', 'Thursday', \n",
    "                                                                                 'Friday', 'Saturday','Sunday'],\n",
    "                                                                                ['seg', 'ter', 'qua', 'qui', 'sex', 'sab', 'dom'])\n",
    "\n",
    "CupomMedioLojas.loc[: ,'Horario_Abertura'] = '08:00:00'\n",
    "    \n",
    "for i in range(len(CupomMedioLojas)):\n",
    "    nroloja = CupomMedioLojas.loc[i,\"Loja\"]\n",
    "\n",
    "    if (nroloja == 2) | (nroloja == 6) | (nroloja == 7):\n",
    "        CupomMedioLojas.loc[i ,'Horario_Fechamento'] = np.where(CupomMedioLojas.loc[i, 'Dia_da_Semana'] == 'dom', \"21:00:00\", \"21:30:00\")\n",
    "\n",
    "    elif (nroloja == 1):\n",
    "        CupomMedioLojas.loc[i , 'Horario_Fechamento'] = np.where(CupomMedioLojas.loc[i, 'Dia_da_Semana'] == 'dom', \"21:30:00\", \"22:00:00\")\n",
    "\n",
    "\n",
    "    elif (nroloja == 3):\n",
    "        CupomMedioLojas.loc[i, 'Horario_Fechamento'] = np.where(CupomMedioLojas.loc[i, 'Dia_da_Semana'] != 'dom', '22:00:00', \"21:00:00\")  \n",
    "\n",
    "    elif (nroloja == 4) | (nroloja == 5): \n",
    "        CupomMedioLojas.loc[i, 'Horario_Fechamento'] = np.where(CupomMedioLojas.loc[i, 'Dia_da_Semana'] != 'dom', '21:30:00', \"13:00:00\")\n",
    "    \n",
    "    elif (nroloja == 9) | (nroloja == 10): \n",
    "        CupomMedioLojas.loc[i, 'Horario_Fechamento'] = np.where(CupomMedioLojas.loc[i, 'Dia_da_Semana'] != 'dom', '21:00:00', \"13:00:00\")\n",
    "\n",
    "\n",
    "    elif (nroloja == 8):\n",
    "        CupomMedioLojas.loc[i, 'Horario_Fechamento'] = np.where(CupomMedioLojas.loc[i, 'Dia_da_Semana'] != 'dom', '21:00:00', 0)\n"
   ]
  },
  {
   "cell_type": "code",
   "execution_count": 30,
   "id": "e5d7cf7e",
   "metadata": {},
   "outputs": [],
   "source": [
    "CupomMedioLojas.loc[:, 'Horario_MeioDia'] = '12:00:00'\n",
    "CupomMedioLojas.loc[:, 'Horario_6hsTarde'] = '18:00:00'"
   ]
  },
  {
   "cell_type": "markdown",
   "id": "aa25d3e8",
   "metadata": {},
   "source": [
    "* ### Planilha Média de Itens por Cupom"
   ]
  },
  {
   "cell_type": "code",
   "execution_count": null,
   "id": "0fb2b242",
   "metadata": {},
   "outputs": [],
   "source": [
    "MediaItensCupom_Lojas = sorted(glob(r'C:/Users/anunes/R-DIAS ASSESSORIA PARA O VAREJO/R-Lab - Cluster/ItensCupom_Lojas/*.xlsx'))\n",
    "MediaItensCupom_Lojas "
   ]
  },
  {
   "cell_type": "code",
   "execution_count": null,
   "id": "6c23a3f4",
   "metadata": {},
   "outputs": [],
   "source": [
    "MediaItensCupom_Lojas = pd.concat((pd.read_excel(cont) for cont in MediaItensCupom_Lojas))\n",
    "MediaItensCupom_Lojas"
   ]
  },
  {
   "cell_type": "markdown",
   "id": "9bfe7810",
   "metadata": {},
   "source": [
    "Exemplo: No dia 2021-02-03, o cupom 185906 teve a média de 4 itens."
   ]
  },
  {
   "cell_type": "code",
   "execution_count": null,
   "id": "11a1b79b",
   "metadata": {},
   "outputs": [],
   "source": [
    "QtdPdvs = pd.DataFrame(data = {'loja': [1, 2, 3, 4, 5, 6, 7, 8, 9, 10],'Pdvs':  [18, 10, 10, 7, 9, 10, 14, 15, 12, 12]})"
   ]
  }
 ],
 "metadata": {
  "kernelspec": {
   "display_name": "Python 3",
   "language": "python",
   "name": "python3"
  },
  "language_info": {
   "codemirror_mode": {
    "name": "ipython",
    "version": 3
   },
   "file_extension": ".py",
   "mimetype": "text/x-python",
   "name": "python",
   "nbconvert_exporter": "python",
   "pygments_lexer": "ipython3",
   "version": "3.8.8"
  }
 },
 "nbformat": 4,
 "nbformat_minor": 5
}
